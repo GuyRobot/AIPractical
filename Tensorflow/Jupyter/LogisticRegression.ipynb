{
 "cells": [
  {
   "cell_type": "code",
   "execution_count": 1,
   "metadata": {
    "collapsed": true
   },
   "outputs": [],
   "source": [
    "import tensorflow as tf\n",
    "import numpy as np\n",
    "\n",
    "\n",
    "num_classes = 10 # 10 images digit\n",
    "num_features = 784 # 28 x 28 (img dimension)\n",
    "\n",
    "learning_rate = .1\n",
    "training_steps = 1000\n",
    "batch_size = 256\n",
    "display_step = 50\n",
    "\n",
    "physical_devices = tf.config.list_physical_devices('GPU')\n",
    "tf.config.experimental.set_memory_growth(physical_devices[0], True)\n",
    "\n"
   ]
  },
  {
   "cell_type": "code",
   "execution_count": 2,
   "outputs": [],
   "source": [
    "# Prepare datasets\n",
    "from tensorflow.keras.datasets import mnist\n",
    "# x_: numpy array (60000, 28, 28), y_: numpy array (60000, 1) with 60000 data samples\n",
    "(x_train, y_train), (x_test, y_test) = mnist.load_data()\n",
    "\n",
    "# Convert to float32\n",
    "x_train, x_test = np.array(x_train, dtype=np.float32), np.array(x_test, dtype=np.float32)\n",
    "\n",
    "# Flatten array\n",
    "# x_: numpy array (60000, 784), y_: numpy array (60000, 1) with 60000 data samples\n",
    "x_train, x_test = x_train.reshape((-1, num_features)), x_test.reshape((-1, num_features))\n",
    "\n",
    "# Normalize\n",
    "x_train, x_test = x_train / 255, x_test / 255\n",
    "\n",
    "# Shuffle data\n",
    "train_data = tf.data.Dataset.from_tensor_slices((x_train, y_train))\n",
    "train_data = train_data.repeat().shuffle(5000).batch(batch_size).prefetch(1)\n"
   ],
   "metadata": {
    "collapsed": false,
    "pycharm": {
     "name": "#%%\n"
    }
   }
  },
  {
   "cell_type": "code",
   "execution_count": 3,
   "outputs": [],
   "source": [
    "# Weight of shape [784, 10], the features and the num classes\n",
    "W = tf.Variable(tf.ones(shape=(num_features, num_classes), name=\"weight\"))\n",
    "b = tf.Variable(tf.zeros(shape=num_classes), name=\"bias\")\n",
    "optimizer = tf.optimizers.SGD(learning_rate)"
   ],
   "metadata": {
    "collapsed": false,
    "pycharm": {
     "name": "#%%\n"
    }
   }
  },
  {
   "cell_type": "code",
   "execution_count": 4,
   "outputs": [],
   "source": [
    "# Function\n",
    "\n",
    "def logistic_regression(x):\n",
    "    # Use softmax to convert logits to probability distribution\n",
    "    # x * W + b (256, 784) * (784, 10) + b -> (256, 10)\n",
    "    return tf.nn.softmax(x @ W + b)\n",
    "\n",
    "\n",
    "def cross_entropy(y_pred, y_true):\n",
    "    \"\"\"\n",
    "    Compute cross_entropy @see Cross Entropy in Reference for solution\n",
    "\n",
    "    :param y_pred:\n",
    "    :param y_true:\n",
    "    :return: cross entropy loss\n",
    "    \"\"\"\n",
    "    # One hot encode\n",
    "    y_true = tf.one_hot(y_true, depth=num_classes)\n",
    "    # Clip to remove math error when compute\n",
    "    y_pred = tf.clip_by_value(y_pred, 1e-9, 1)\n",
    "    # Compute cross_entropy @see Cross Entropy in Reference for solution\n",
    "    # y_true (256, 10) * log(y_pred) (256, 10) -> (256, 10) -> sum(axis=1) -> (256,) -> reduce_mean -> (1,)\n",
    "    return tf.reduce_mean(-tf.reduce_sum(y_true * tf.math.log(y_pred), axis=1))\n",
    "\n",
    "\n",
    "def accuracy(y_pred, y_true):\n",
    "    \"\"\"\n",
    "    Compute the accuracy of the predicted\n",
    "    :param y_pred: the predicted value\n",
    "    :param y_true: true label\n",
    "    :return:\n",
    "    \"\"\"\n",
    "    # Check the arg max of prediction equal to label\n",
    "    # -> true or false depend on it is same as label or not\n",
    "    # Then compute the mean product the accuracy\n",
    "    correct_prediction = tf.equal(tf.argmax(y_pred, axis=1), tf.cast(y_true, dtype=tf.int64))\n",
    "    return tf.reduce_mean(tf.cast(correct_prediction, dtype=tf.float32))\n",
    "\n",
    "\n",
    "def run_optimization(x, y):\n",
    "    with tf.GradientTape() as g:\n",
    "        y_pred = logistic_regression(x)\n",
    "        loss = cross_entropy(y_pred, y)\n",
    "\n",
    "    # Individual gradients respect to each variable in W and b\n",
    "    # Include the gradient of W with shape same as W (784, 10) and gradient of b with same shape as b (10,)\n",
    "    gradients = g.gradient(loss, [W, b])\n",
    "    optimizer.apply_gradients(zip(gradients, [W, b]))\n",
    "\n"
   ],
   "metadata": {
    "collapsed": false,
    "pycharm": {
     "name": "#%%\n"
    }
   }
  },
  {
   "cell_type": "code",
   "execution_count": 5,
   "outputs": [
    {
     "name": "stdout",
     "output_type": "stream",
     "text": [
      "step: 50, loss: 0.751, acc: 0.863\n",
      "step: 100, loss: 0.617, acc: 0.875\n",
      "step: 150, loss: 0.559, acc: 0.859\n",
      "step: 200, loss: 0.466, acc: 0.883\n",
      "step: 250, loss: 0.488, acc: 0.891\n",
      "step: 300, loss: 0.414, acc: 0.883\n",
      "step: 350, loss: 0.465, acc: 0.867\n",
      "step: 400, loss: 0.500, acc: 0.859\n",
      "step: 450, loss: 0.357, acc: 0.895\n",
      "step: 500, loss: 0.386, acc: 0.887\n",
      "step: 550, loss: 0.387, acc: 0.902\n",
      "step: 600, loss: 0.395, acc: 0.887\n",
      "step: 650, loss: 0.428, acc: 0.867\n",
      "step: 700, loss: 0.316, acc: 0.922\n",
      "step: 750, loss: 0.455, acc: 0.883\n",
      "step: 800, loss: 0.387, acc: 0.895\n",
      "step: 850, loss: 0.317, acc: 0.918\n",
      "step: 900, loss: 0.359, acc: 0.887\n",
      "step: 950, loss: 0.397, acc: 0.883\n",
      "step: 1000, loss: 0.298, acc: 0.922\n"
     ]
    }
   ],
   "source": [
    "# Training\n",
    "\n",
    "for step, (batch_x, batch_y) in enumerate(train_data.take(training_steps), 1):\n",
    "    run_optimization(batch_x, batch_y)\n",
    "\n",
    "    if step % display_step == 0:\n",
    "        pred = logistic_regression(batch_x)\n",
    "\n",
    "        loss = cross_entropy(pred, batch_y)\n",
    "        acc = accuracy(y_pred=pred, y_true=batch_y)\n",
    "        print(\"step: %d, loss: %.3f, acc: %.3f\" % (step, loss, acc))\n",
    "\n"
   ],
   "metadata": {
    "collapsed": false,
    "pycharm": {
     "name": "#%%\n"
    }
   }
  },
  {
   "cell_type": "code",
   "execution_count": 6,
   "outputs": [
    {
     "name": "stdout",
     "output_type": "stream",
     "text": [
      "Test Accuracy: 0.909500\n"
     ]
    }
   ],
   "source": [
    "\"\"\"\n",
    "    Test accuracy\n",
    "\"\"\"\n",
    "pred = logistic_regression(x_test)\n",
    "print(\"Test Accuracy: %f\" % accuracy(pred, y_test))"
   ],
   "metadata": {
    "collapsed": false,
    "pycharm": {
     "name": "#%%\n"
    }
   }
  },
  {
   "cell_type": "code",
   "execution_count": 7,
   "outputs": [
    {
     "data": {
      "text/plain": "<Figure size 640x480 with 1 Axes>"
     },
     "metadata": {},
     "output_type": "display_data"
    },
    {
     "name": "stdout",
     "output_type": "stream",
     "text": [
      "Model Predictions: 0\n",
      "Model Predictions: 6\n",
      "Model Predictions: 9\n",
      "Model Predictions: 0\n",
      "Model Predictions: 1\n"
     ]
    },
    {
     "data": {
      "text/plain": "<Figure size 640x480 with 1 Axes>"
     },
     "metadata": {},
     "output_type": "display_data"
    },
    {
     "data": {
      "text/plain": "<Figure size 640x480 with 1 Axes>"
     },
     "metadata": {},
     "output_type": "display_data"
    },
    {
     "data": {
      "text/plain": "<Figure size 640x480 with 1 Axes>"
     },
     "metadata": {},
     "output_type": "display_data"
    },
    {
     "data": {
      "text/plain": "<Figure size 640x480 with 1 Axes>"
     },
     "metadata": {},
     "output_type": "display_data"
    }
   ],
   "source": [
    "\n",
    "\"\"\"\n",
    "    Visualize\n",
    "\"\"\"\n",
    "import matplotlib.pyplot as plt\n",
    "start = 10\n",
    "n_images = 5\n",
    "test_images = x_test[start:start + n_images]\n",
    "predictions = logistic_regression(test_images)\n",
    "\n",
    "for i in range(n_images):\n",
    "    plt.imshow(np.reshape(test_images[i], (28, 28)),\n",
    "               cmap='gray')\n",
    "    plt.show()\n",
    "    print(\"Model Predictions: %d\" % np.argmax(predictions.numpy()[i]))"
   ],
   "metadata": {
    "collapsed": false,
    "pycharm": {
     "name": "#%%\n"
    }
   }
  }
 ],
 "metadata": {
  "kernelspec": {
   "display_name": "Python 3",
   "language": "python",
   "name": "python3"
  },
  "language_info": {
   "codemirror_mode": {
    "name": "ipython",
    "version": 2
   },
   "file_extension": ".py",
   "mimetype": "text/x-python",
   "name": "python",
   "nbconvert_exporter": "python",
   "pygments_lexer": "ipython2",
   "version": "2.7.6"
  }
 },
 "nbformat": 4,
 "nbformat_minor": 0
}