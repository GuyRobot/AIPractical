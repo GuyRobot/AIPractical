{
 "cells": [
  {
   "cell_type": "code",
   "execution_count": 13,
   "metadata": {
    "collapsed": true
   },
   "outputs": [],
   "source": [
    "\"\"\"\n",
    "    Init\n",
    "\"\"\"\n",
    "import tensorflow as tf\n",
    "import numpy as np\n",
    "\n",
    "rand = np.random\n",
    "\n",
    "learning_rate = .01\n",
    "training_steps = 1000\n",
    "display_step = 50\n",
    "# Train data\n",
    "X = np.array([3.3,4.4,5.5,6.71,6.93,4.168,9.779,6.182,7.59,2.167,\n",
    "              7.042,10.791,5.313,7.997,5.654,9.27,3.1])\n",
    "\n",
    "# Label\n",
    "Y = np.array([1.7,2.76,2.09,3.19,1.694,1.573,3.366,2.596,2.53,1.221,\n",
    "              2.827,3.465,1.65,2.904,2.42,2.94,1.3])\n",
    "\n",
    "W = tf.Variable(rand.randn(), name=\"weight\")\n",
    "b = tf.Variable(rand.randn(), name=\"bias\")"
   ]
  },
  {
   "cell_type": "code",
   "execution_count": 14,
   "outputs": [],
   "source": [
    "\"\"\"\n",
    "    Function\n",
    "\"\"\"\n",
    "# Regression Wx + b\n",
    "def linear(x):\n",
    "    return W * x + b\n",
    "\n",
    "\n",
    "def mean_square_error(pred):\n",
    "    return tf.reduce_mean(tf.square(Y - pred))\n",
    "\n",
    "\n",
    "optimizer = tf.optimizers.SGD(learning_rate)\n",
    "def run_optimizer():\n",
    "\n",
    "    # Wrap computation inside gradient tape to automation differentiation\n",
    "    with tf.GradientTape() as g:\n",
    "        pred = linear(X)\n",
    "        loss = mean_square_error(pred)\n",
    "\n",
    "    gradients = g.gradient(loss, [W, b])\n",
    "    optimizer.apply_gradients(zip(gradients, [W, b]))\n"
   ],
   "metadata": {
    "collapsed": false,
    "pycharm": {
     "name": "#%%\n"
    }
   }
  },
  {
   "cell_type": "code",
   "execution_count": 15,
   "outputs": [
    {
     "name": "stdout",
     "output_type": "stream",
     "text": [
      "step: 0, loss: 0.25, W: 0.198302, b: 1.416932\n",
      "step: 50, loss: 0.19, W: 0.175008, b: 1.342049\n",
      "step: 100, loss: 0.18, W: 0.183777, b: 1.279882\n",
      "step: 150, loss: 0.18, W: 0.191543, b: 1.224829\n",
      "step: 200, loss: 0.17, W: 0.198419, b: 1.176076\n",
      "step: 250, loss: 0.17, W: 0.204509, b: 1.132903\n",
      "step: 300, loss: 0.16, W: 0.209902, b: 1.094670\n",
      "step: 350, loss: 0.16, W: 0.214678, b: 1.060812\n",
      "step: 400, loss: 0.16, W: 0.218907, b: 1.030828\n",
      "step: 450, loss: 0.16, W: 0.222652, b: 1.004276\n",
      "step: 500, loss: 0.16, W: 0.225969, b: 0.980762\n",
      "step: 550, loss: 0.16, W: 0.228906, b: 0.959940\n",
      "step: 600, loss: 0.16, W: 0.231507, b: 0.941500\n",
      "step: 650, loss: 0.16, W: 0.233810, b: 0.925170\n",
      "step: 700, loss: 0.16, W: 0.235850, b: 0.910709\n",
      "step: 750, loss: 0.16, W: 0.237656, b: 0.897902\n",
      "step: 800, loss: 0.15, W: 0.239256, b: 0.886562\n",
      "step: 850, loss: 0.15, W: 0.240673, b: 0.876519\n",
      "step: 900, loss: 0.15, W: 0.241927, b: 0.867625\n",
      "step: 950, loss: 0.15, W: 0.243038, b: 0.859749\n"
     ]
    }
   ],
   "source": [
    "for step in range(training_steps):\n",
    "    run_optimizer()\n",
    "\n",
    "    if step % display_step == 0:\n",
    "        pred = linear(X)\n",
    "        loss = mean_square_error(pred)\n",
    "        print(\"step: %d, loss: %.2f, W: %f, b: %f\" % (step, loss, W.numpy(), b.numpy()))\n"
   ],
   "metadata": {
    "collapsed": false,
    "pycharm": {
     "name": "#%%\n"
    }
   }
  },
  {
   "cell_type": "code",
   "execution_count": 16,
   "outputs": [
    {
     "data": {
      "text/plain": "<Figure size 432x288 with 1 Axes>",
      "image/png": "[encoded data removed]"
     },
     "metadata": {
      "needs_background": "light"
     },
     "output_type": "display_data"
    }
   ],
   "source": [
    "\n",
    "from matplotlib import pyplot as plt\n",
    "plt.plot(X, Y, \"ro\", label=\"Origin data\")\n",
    "plt.plot(X, np.array(W * X  + b), label=\"Fitted line\")\n",
    "plt.legend()\n",
    "plt.show()"
   ],
   "metadata": {
    "collapsed": false,
    "pycharm": {
     "name": "#%%\n"
    }
   }
  }
 ],
 "metadata": {
  "kernelspec": {
   "display_name": "Python 3",
   "language": "python",
   "name": "python3"
  },
  "language_info": {
   "codemirror_mode": {
    "name": "ipython",
    "version": 2
   },
   "file_extension": ".py",
   "mimetype": "text/x-python",
   "name": "python",
   "nbconvert_exporter": "python",
   "pygments_lexer": "ipython2",
   "version": "2.7.6"
  }
 },
 "nbformat": 4,
 "nbformat_minor": 0
}