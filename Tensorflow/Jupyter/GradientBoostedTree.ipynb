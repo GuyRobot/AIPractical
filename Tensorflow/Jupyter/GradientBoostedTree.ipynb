{
 "cells": [
  {
   "cell_type": "code",
   "execution_count": 1,
   "metadata": {
    "collapsed": true,
    "pycharm": {
     "name": "#%%\n"
    }
   },
   "outputs": [],
   "source": [
    "\"\"\"\n",
    "    Gradient boosted decision tree\n",
    "\"\"\"\n",
    "import os\n",
    "import tensorflow as tf\n",
    "import numpy as np\n",
    "import copy\n",
    "os.environ['CUDA_VISIBLE_DEVICES'] = \"\"\n",
    "os.environ['TF_CPP_MIN_LOG_LEVEL'] = \"1\"\n",
    "\n",
    "num_classes = 2  # Total classes, > 23000 and otherwise\n",
    "num_features = 13  # 13 columns data features\n",
    "\n",
    "max_steps = 2000\n",
    "batch_size = 256\n",
    "learning_rate = 1.0\n",
    "l1_regular = 0.0\n",
    "l2_regular = 0.1\n",
    "\n",
    "# GBDT parameters\n",
    "num_batches_per_layer = 1000\n",
    "num_trees = 10\n",
    "max_depth = 4\n",
    "\n"
   ]
  },
  {
   "cell_type": "code",
   "execution_count": 2,
   "outputs": [],
   "source": [
    "# Prepare data set\n",
    "from tensorflow.keras.datasets import boston_housing\n",
    "# (x: (404, 13) - (samples, features), y: (404,) - (samples) with price value\n",
    "(x_train, y_train), (x_test, y_test) = boston_housing.load_data()\n",
    "\n",
    "\n",
    "def to_binary_class(y):\n",
    "    \"\"\"\n",
    "    2 classes for one have price grater than 23000 and otherwise\n",
    "    :param y:\n",
    "    :return:\n",
    "    \"\"\"\n",
    "    for i, label in enumerate(y):\n",
    "        if label > 23.0:\n",
    "            y[i] = 1\n",
    "        else:\n",
    "            y[i] = 0\n",
    "    return y\n",
    "\n",
    "# train: (404, ) - test: (102,)\n",
    "y_train_binary = to_binary_class(copy.deepcopy(y_train))\n",
    "y_test_binary = to_binary_class(copy.deepcopy(y_test))"
   ],
   "metadata": {
    "collapsed": false,
    "pycharm": {
     "name": "#%%\n"
    }
   }
  },
  {
   "cell_type": "code",
   "execution_count": 3,
   "outputs": [
    {
     "data": {
      "text/plain": "[NumericColumn(key='x', shape=(13,), default_value=None, dtype=tf.float32, normalizer_fn=None)]"
     },
     "execution_count": 3,
     "metadata": {},
     "output_type": "execute_result"
    }
   ],
   "source": [
    "# GBDT Classifier\n",
    "train_input_fn = tf.compat.v1.estimator.inputs.numpy_input_fn(\n",
    "    x={\"x\": x_train},\n",
    "    y=y_train_binary,\n",
    "    batch_size=batch_size,\n",
    "    num_epochs=None,\n",
    "    shuffle=True\n",
    ")\n",
    "\n",
    "test_input_fn = tf.compat.v1.estimator.inputs.numpy_input_fn(\n",
    "    x={\"x\": x_test},\n",
    "    y=y_test_binary,\n",
    "    batch_size=batch_size,\n",
    "    num_epochs=None,\n",
    "    shuffle=False\n",
    ")\n",
    "\n",
    "test_train_input_fn = tf.compat.v1.estimator.inputs.numpy_input_fn(\n",
    "    x={\"x\": x_train},\n",
    "    y=y_train_binary,\n",
    "    batch_size=batch_size,\n",
    "    num_epochs=None,\n",
    "    shuffle=False\n",
    ")\n",
    "\n",
    "feature_columns = [tf.feature_column.numeric_column(key='x', shape=(num_features,))]\n",
    "feature_columns"
   ],
   "metadata": {
    "collapsed": false,
    "pycharm": {
     "name": "#%%\n"
    }
   }
  },
  {
   "cell_type": "code",
   "execution_count": 4,
   "outputs": [
    {
     "name": "stdout",
     "output_type": "stream",
     "text": [
      "INFO:tensorflow:Using default config.\n",
      "WARNING:tensorflow:Using temporary folder as model directory: C:\\Users\\NGUYEN~1\\AppData\\Local\\Temp\\tmp5fzd8ezc\n",
      "INFO:tensorflow:Using config: {'_model_dir': 'C:\\\\Users\\\\NGUYEN~1\\\\AppData\\\\Local\\\\Temp\\\\tmp5fzd8ezc', '_tf_random_seed': None, '_save_summary_steps': 100, '_save_checkpoints_steps': None, '_save_checkpoints_secs': 600, '_session_config': allow_soft_placement: true\n",
      "graph_options {\n",
      "  rewrite_options {\n",
      "    meta_optimizer_iterations: ONE\n",
      "  }\n",
      "}\n",
      ", '_keep_checkpoint_max': 5, '_keep_checkpoint_every_n_hours': 10000, '_log_step_count_steps': 100, '_train_distribute': None, '_device_fn': None, '_protocol': None, '_eval_distribute': None, '_experimental_distribute': None, '_experimental_max_worker_delay_secs': None, '_session_creation_timeout_secs': 7200, '_service': None, '_cluster_spec': ClusterSpec({}), '_task_type': 'worker', '_task_id': 0, '_global_id_in_cluster': 0, '_master': '', '_evaluation_master': '', '_is_chief': True, '_num_ps_replicas': 0, '_num_worker_replicas': 1}\n"
     ]
    }
   ],
   "source": [
    "gbdt_classifier = tf.estimator.BoostedTreesClassifier(\n",
    "    feature_columns=feature_columns,\n",
    "    n_batches_per_layer=num_batches_per_layer,\n",
    "    n_classes=num_classes,\n",
    "    learning_rate=learning_rate,\n",
    "    n_trees=num_trees,\n",
    "    max_depth=max_depth,\n",
    "    l1_regularization=l1_regular,\n",
    "    l2_regularization=l2_regular,\n",
    ")\n"
   ],
   "metadata": {
    "collapsed": false,
    "pycharm": {
     "name": "#%%\n"
    }
   }
  },
  {
   "cell_type": "code",
   "execution_count": 5,
   "outputs": [
    {
     "name": "stdout",
     "output_type": "stream",
     "text": [
      "WARNING:tensorflow:From c:\\users\\nguyen trung tam\\pycharmprojects\\deeplearning001\\venv\\lib\\site-packages\\tensorflow_core\\python\\ops\\resource_variable_ops.py:1635: calling BaseResourceVariable.__init__ (from tensorflow.python.ops.resource_variable_ops) with constraint is deprecated and will be removed in a future version.\n",
      "Instructions for updating:\n",
      "If using Keras pass *_constraint arguments to layers.\n",
      "WARNING:tensorflow:From c:\\users\\nguyen trung tam\\pycharmprojects\\deeplearning001\\venv\\lib\\site-packages\\tensorflow_core\\python\\training\\training_util.py:236: Variable.initialized_value (from tensorflow.python.ops.variables) is deprecated and will be removed in a future version.\n",
      "Instructions for updating:\n",
      "Use Variable.read_value. Variables in 2.X are initialized automatically both in eager and graph (inside tf.defun) contexts.\n",
      "WARNING:tensorflow:From c:\\users\\nguyen trung tam\\pycharmprojects\\deeplearning001\\venv\\lib\\site-packages\\tensorflow_estimator\\python\\estimator\\inputs\\queues\\feeding_queue_runner.py:62: QueueRunner.__init__ (from tensorflow.python.training.queue_runner_impl) is deprecated and will be removed in a future version.\n",
      "Instructions for updating:\n",
      "To construct input pipelines, use the `tf.data` module.\n",
      "WARNING:tensorflow:From c:\\users\\nguyen trung tam\\pycharmprojects\\deeplearning001\\venv\\lib\\site-packages\\tensorflow_estimator\\python\\estimator\\inputs\\queues\\feeding_functions.py:500: add_queue_runner (from tensorflow.python.training.queue_runner_impl) is deprecated and will be removed in a future version.\n",
      "Instructions for updating:\n",
      "To construct input pipelines, use the `tf.data` module.\n",
      "INFO:tensorflow:Calling model_fn.\n",
      "INFO:tensorflow:Done calling model_fn.\n",
      "INFO:tensorflow:Create CheckpointSaverHook.\n",
      "WARNING:tensorflow:Issue encountered when serializing resources.\n",
      "Type is unsupported, or the types of the items don't match field type in CollectionDef. Note this is a warning and probably safe to ignore.\n",
      "'_Resource' object has no attribute 'name'\n",
      "INFO:tensorflow:Graph was finalized.\n",
      "INFO:tensorflow:Running local_init_op.\n",
      "INFO:tensorflow:Done running local_init_op.\n",
      "WARNING:tensorflow:From c:\\users\\nguyen trung tam\\pycharmprojects\\deeplearning001\\venv\\lib\\site-packages\\tensorflow_core\\python\\training\\monitored_session.py:906: start_queue_runners (from tensorflow.python.training.queue_runner_impl) is deprecated and will be removed in a future version.\n",
      "Instructions for updating:\n",
      "To construct input pipelines, use the `tf.data` module.\n",
      "WARNING:tensorflow:Issue encountered when serializing resources.\n",
      "Type is unsupported, or the types of the items don't match field type in CollectionDef. Note this is a warning and probably safe to ignore.\n",
      "'_Resource' object has no attribute 'name'\n",
      "INFO:tensorflow:Saving checkpoints for 0 into C:\\Users\\NGUYEN~1\\AppData\\Local\\Temp\\tmp5fzd8ezc\\model.ckpt.\n",
      "WARNING:tensorflow:Issue encountered when serializing resources.\n",
      "Type is unsupported, or the types of the items don't match field type in CollectionDef. Note this is a warning and probably safe to ignore.\n",
      "'_Resource' object has no attribute 'name'\n",
      "INFO:tensorflow:loss = 0.6931472, step = 0\n",
      "WARNING:tensorflow:It seems that global step (tf.train.get_global_step) has not been increased. Current value (could be stable): 0 vs previous value: 0. You could increase the global step by passing tf.train.get_global_step() to Optimizer.apply_gradients or Optimizer.minimize.\n",
      "WARNING:tensorflow:It seems that global step (tf.train.get_global_step) has not been increased. Current value (could be stable): 0 vs previous value: 0. You could increase the global step by passing tf.train.get_global_step() to Optimizer.apply_gradients or Optimizer.minimize.\n",
      "WARNING:tensorflow:It seems that global step (tf.train.get_global_step) has not been increased. Current value (could be stable): 0 vs previous value: 0. You could increase the global step by passing tf.train.get_global_step() to Optimizer.apply_gradients or Optimizer.minimize.\n",
      "WARNING:tensorflow:It seems that global step (tf.train.get_global_step) has not been increased. Current value (could be stable): 0 vs previous value: 0. You could increase the global step by passing tf.train.get_global_step() to Optimizer.apply_gradients or Optimizer.minimize.\n",
      "WARNING:tensorflow:It seems that global step (tf.train.get_global_step) has not been increased. Current value (could be stable): 0 vs previous value: 0. You could increase the global step by passing tf.train.get_global_step() to Optimizer.apply_gradients or Optimizer.minimize.\n",
      "INFO:tensorflow:loss = 0.6931472, step = 0 (1.061 sec)\n",
      "INFO:tensorflow:loss = 0.6931472, step = 0 (0.829 sec)\n",
      "INFO:tensorflow:loss = 0.6931472, step = 0 (0.809 sec)\n",
      "INFO:tensorflow:loss = 0.6931472, step = 0 (0.782 sec)\n",
      "INFO:tensorflow:loss = 0.6931472, step = 0 (0.782 sec)\n",
      "INFO:tensorflow:loss = 0.6931472, step = 0 (0.868 sec)\n",
      "INFO:tensorflow:loss = 0.6931472, step = 0 (0.855 sec)\n",
      "INFO:tensorflow:loss = 0.6931472, step = 0 (0.792 sec)\n",
      "INFO:tensorflow:loss = 0.6931472, step = 0 (0.802 sec)\n",
      "INFO:tensorflow:loss = 0.6931472, step = 0 (0.784 sec)\n",
      "INFO:tensorflow:global_step/sec: 10.6781\n",
      "INFO:tensorflow:loss = 0.6931472, step = 100 (1.012 sec)\n",
      "INFO:tensorflow:global_step/sec: 122.1\n",
      "INFO:tensorflow:loss = 0.6931472, step = 200 (0.818 sec)\n",
      "INFO:tensorflow:global_step/sec: 125\n",
      "INFO:tensorflow:loss = 0.6931472, step = 300 (0.801 sec)\n",
      "INFO:tensorflow:global_step/sec: 120.628\n",
      "INFO:tensorflow:loss = 0.6931472, step = 400 (0.828 sec)\n",
      "INFO:tensorflow:global_step/sec: 117.924\n",
      "INFO:tensorflow:loss = 0.6931472, step = 500 (0.852 sec)\n",
      "INFO:tensorflow:global_step/sec: 116.822\n",
      "INFO:tensorflow:loss = 0.6931472, step = 600 (0.853 sec)\n",
      "INFO:tensorflow:global_step/sec: 117.371\n",
      "INFO:tensorflow:loss = 0.6931472, step = 700 (0.851 sec)\n",
      "INFO:tensorflow:global_step/sec: 121.803\n",
      "INFO:tensorflow:loss = 0.6931472, step = 800 (0.822 sec)\n",
      "INFO:tensorflow:global_step/sec: 120.048\n",
      "INFO:tensorflow:loss = 0.6931472, step = 900 (0.832 sec)\n",
      "INFO:tensorflow:global_step/sec: 123.762\n",
      "INFO:tensorflow:loss = 0.4447495, step = 1000 (0.810 sec)\n",
      "INFO:tensorflow:global_step/sec: 125.001\n",
      "INFO:tensorflow:loss = 0.4473924, step = 1100 (0.800 sec)\n",
      "INFO:tensorflow:global_step/sec: 122.698\n",
      "INFO:tensorflow:loss = 0.47928283, step = 1200 (0.814 sec)\n",
      "INFO:tensorflow:global_step/sec: 123.458\n",
      "INFO:tensorflow:loss = 0.46088663, step = 1300 (0.810 sec)\n",
      "INFO:tensorflow:global_step/sec: 124.843\n",
      "INFO:tensorflow:loss = 0.47611266, step = 1400 (0.805 sec)\n",
      "INFO:tensorflow:global_step/sec: 123.153\n",
      "INFO:tensorflow:loss = 0.44916406, step = 1500 (0.808 sec)\n",
      "INFO:tensorflow:global_step/sec: 119.332\n",
      "INFO:tensorflow:loss = 0.46225396, step = 1600 (0.836 sec)\n",
      "INFO:tensorflow:global_step/sec: 120.048\n",
      "INFO:tensorflow:loss = 0.46316504, step = 1700 (0.836 sec)\n",
      "INFO:tensorflow:global_step/sec: 122.549\n",
      "INFO:tensorflow:loss = 0.47897485, step = 1800 (0.814 sec)\n",
      "INFO:tensorflow:global_step/sec: 128.7\n",
      "INFO:tensorflow:loss = 0.45206034, step = 1900 (0.781 sec)\n",
      "INFO:tensorflow:global_step/sec: 117.233\n",
      "INFO:tensorflow:Saving checkpoints for 2000 into C:\\Users\\NGUYEN~1\\AppData\\Local\\Temp\\tmp5fzd8ezc\\model.ckpt.\n",
      "WARNING:tensorflow:Issue encountered when serializing resources.\n",
      "Type is unsupported, or the types of the items don't match field type in CollectionDef. Note this is a warning and probably safe to ignore.\n",
      "'_Resource' object has no attribute 'name'\n",
      "INFO:tensorflow:Loss for final step: 0.46291468.\n"
     ]
    },
    {
     "data": {
      "text/plain": "<tensorflow_estimator.python.estimator.canned.boosted_trees.BoostedTreesClassifier at 0x22b995bc898>"
     },
     "execution_count": 5,
     "metadata": {},
     "output_type": "execute_result"
    }
   ],
   "source": [
    "gbdt_classifier.train(input_fn=train_input_fn, max_steps=max_steps)\n"
   ],
   "metadata": {
    "collapsed": false,
    "pycharm": {
     "name": "#%%\n"
    }
   }
  },
  {
   "cell_type": "code",
   "execution_count": 6,
   "outputs": [
    {
     "name": "stdout",
     "output_type": "stream",
     "text": [
      "INFO:tensorflow:Calling model_fn.\n",
      "WARNING:tensorflow:From c:\\users\\nguyen trung tam\\pycharmprojects\\deeplearning001\\venv\\lib\\site-packages\\tensorflow_core\\python\\ops\\metrics_impl.py:2029: div (from tensorflow.python.ops.math_ops) is deprecated and will be removed in a future version.\n",
      "Instructions for updating:\n",
      "Deprecated in favor of operator or tf.math.divide.\n",
      "WARNING:tensorflow:From c:\\users\\nguyen trung tam\\pycharmprojects\\deeplearning001\\venv\\lib\\site-packages\\tensorflow_estimator\\python\\estimator\\canned\\head.py:619: auc (from tensorflow.python.ops.metrics_impl) is deprecated and will be removed in a future version.\n",
      "Instructions for updating:\n",
      "The value of AUC returned by this may race with the update so this is deprected. Please use tf.keras.metrics.AUC instead.\n",
      "WARNING:tensorflow:Trapezoidal rule is known to produce incorrect PR-AUCs; please switch to \"careful_interpolation\" instead.\n",
      "WARNING:tensorflow:Trapezoidal rule is known to produce incorrect PR-AUCs; please switch to \"careful_interpolation\" instead.\n",
      "INFO:tensorflow:Done calling model_fn.\n",
      "INFO:tensorflow:Starting evaluation at 2020-11-06T11:39:53Z\n",
      "INFO:tensorflow:Graph was finalized.\n",
      "INFO:tensorflow:Restoring parameters from C:\\Users\\NGUYEN~1\\AppData\\Local\\Temp\\tmp5fzd8ezc\\model.ckpt-2000\n",
      "INFO:tensorflow:Running local_init_op.\n",
      "INFO:tensorflow:Done running local_init_op.\n",
      "INFO:tensorflow:Evaluation [200/2000]\n",
      "INFO:tensorflow:Evaluation [400/2000]\n",
      "INFO:tensorflow:Evaluation [600/2000]\n",
      "INFO:tensorflow:Evaluation [800/2000]\n",
      "INFO:tensorflow:Evaluation [1000/2000]\n",
      "INFO:tensorflow:Evaluation [1200/2000]\n",
      "INFO:tensorflow:Evaluation [1400/2000]\n",
      "INFO:tensorflow:Evaluation [1600/2000]\n",
      "INFO:tensorflow:Evaluation [1800/2000]\n",
      "INFO:tensorflow:Evaluation [2000/2000]\n",
      "INFO:tensorflow:Inference Time : 12.20700s\n",
      "INFO:tensorflow:Finished evaluation at 2020-11-06-11:40:05\n",
      "INFO:tensorflow:Saving dict for global step 2000: accuracy = 0.87624806, accuracy_baseline = 0.638625, auc = 0.9161989, auc_precision_recall = 0.9092197, average_loss = 0.3771418, global_step = 2000, label/mean = 0.361375, loss = 0.3771418, precision = 0.8809421, prediction/mean = 0.36962026, recall = 0.7603068\n",
      "WARNING:tensorflow:Issue encountered when serializing resources.\n",
      "Type is unsupported, or the types of the items don't match field type in CollectionDef. Note this is a warning and probably safe to ignore.\n",
      "'_Resource' object has no attribute 'name'\n",
      "INFO:tensorflow:Saving 'checkpoint_path' summary for global step 2000: C:\\Users\\NGUYEN~1\\AppData\\Local\\Temp\\tmp5fzd8ezc\\model.ckpt-2000\n"
     ]
    },
    {
     "data": {
      "text/plain": "{'accuracy': 0.87624806,\n 'accuracy_baseline': 0.638625,\n 'auc': 0.9161989,\n 'auc_precision_recall': 0.9092197,\n 'average_loss': 0.3771418,\n 'label/mean': 0.361375,\n 'loss': 0.3771418,\n 'precision': 0.8809421,\n 'prediction/mean': 0.36962026,\n 'recall': 0.7603068,\n 'global_step': 2000}"
     },
     "execution_count": 6,
     "metadata": {},
     "output_type": "execute_result"
    }
   ],
   "source": [
    "gbdt_classifier.evaluate(test_train_input_fn, steps=max_steps)"
   ],
   "metadata": {
    "collapsed": false,
    "pycharm": {
     "name": "#%%\n"
    }
   }
  },
  {
   "cell_type": "code",
   "execution_count": 7,
   "outputs": [
    {
     "name": "stdout",
     "output_type": "stream",
     "text": [
      "INFO:tensorflow:Using default config.\n",
      "WARNING:tensorflow:Using temporary folder as model directory: C:\\Users\\NGUYEN~1\\AppData\\Local\\Temp\\tmpz56xy_yb\n",
      "INFO:tensorflow:Using config: {'_model_dir': 'C:\\\\Users\\\\NGUYEN~1\\\\AppData\\\\Local\\\\Temp\\\\tmpz56xy_yb', '_tf_random_seed': None, '_save_summary_steps': 100, '_save_checkpoints_steps': None, '_save_checkpoints_secs': 600, '_session_config': allow_soft_placement: true\n",
      "graph_options {\n",
      "  rewrite_options {\n",
      "    meta_optimizer_iterations: ONE\n",
      "  }\n",
      "}\n",
      ", '_keep_checkpoint_max': 5, '_keep_checkpoint_every_n_hours': 10000, '_log_step_count_steps': 100, '_train_distribute': None, '_device_fn': None, '_protocol': None, '_eval_distribute': None, '_experimental_distribute': None, '_experimental_max_worker_delay_secs': None, '_session_creation_timeout_secs': 7200, '_service': None, '_cluster_spec': ClusterSpec({}), '_task_type': 'worker', '_task_id': 0, '_global_id_in_cluster': 0, '_master': '', '_evaluation_master': '', '_is_chief': True, '_num_ps_replicas': 0, '_num_worker_replicas': 1}\n"
     ]
    }
   ],
   "source": [
    "# GDBT regressor\n",
    "gdbt_regressor = tf.estimator.BoostedTreesRegressor(\n",
    "    feature_columns=feature_columns,\n",
    "    n_batches_per_layer=num_batches_per_layer,\n",
    "    learning_rate=learning_rate,\n",
    "    n_trees=num_trees,\n",
    "    max_depth=max_depth,\n",
    "    l1_regularization=l1_regular,\n",
    "    l2_regularization=l2_regular\n",
    ")"
   ],
   "metadata": {
    "collapsed": false,
    "pycharm": {
     "name": "#%%\n"
    }
   }
  },
  {
   "cell_type": "code",
   "execution_count": 8,
   "outputs": [
    {
     "name": "stdout",
     "output_type": "stream",
     "text": [
      "INFO:tensorflow:Calling model_fn.\n",
      "INFO:tensorflow:Done calling model_fn.\n",
      "INFO:tensorflow:Create CheckpointSaverHook.\n",
      "WARNING:tensorflow:Issue encountered when serializing resources.\n",
      "Type is unsupported, or the types of the items don't match field type in CollectionDef. Note this is a warning and probably safe to ignore.\n",
      "'_Resource' object has no attribute 'name'\n",
      "INFO:tensorflow:Graph was finalized.\n",
      "INFO:tensorflow:Running local_init_op.\n",
      "INFO:tensorflow:Done running local_init_op.\n",
      "WARNING:tensorflow:Issue encountered when serializing resources.\n",
      "Type is unsupported, or the types of the items don't match field type in CollectionDef. Note this is a warning and probably safe to ignore.\n",
      "'_Resource' object has no attribute 'name'\n",
      "INFO:tensorflow:Saving checkpoints for 0 into C:\\Users\\NGUYEN~1\\AppData\\Local\\Temp\\tmpz56xy_yb\\model.ckpt.\n",
      "WARNING:tensorflow:Issue encountered when serializing resources.\n",
      "Type is unsupported, or the types of the items don't match field type in CollectionDef. Note this is a warning and probably safe to ignore.\n",
      "'_Resource' object has no attribute 'name'\n",
      "INFO:tensorflow:loss = 0.4140625, step = 0\n",
      "INFO:tensorflow:loss = 0.390625, step = 0 (1.323 sec)\n",
      "INFO:tensorflow:loss = 0.35546875, step = 0 (0.860 sec)\n",
      "INFO:tensorflow:loss = 0.37109375, step = 0 (0.958 sec)\n",
      "INFO:tensorflow:loss = 0.40234375, step = 0 (0.925 sec)\n",
      "INFO:tensorflow:loss = 0.32421875, step = 0 (0.897 sec)\n",
      "INFO:tensorflow:loss = 0.38671875, step = 0 (0.891 sec)\n",
      "INFO:tensorflow:loss = 0.37890625, step = 0 (0.943 sec)\n",
      "INFO:tensorflow:loss = 0.34765625, step = 0 (0.810 sec)\n",
      "INFO:tensorflow:loss = 0.32421875, step = 0 (0.851 sec)\n",
      "INFO:tensorflow:loss = 0.3203125, step = 0 (0.880 sec)\n",
      "INFO:tensorflow:global_step/sec: 9.62279\n",
      "INFO:tensorflow:loss = 0.42578125, step = 100 (1.065 sec)\n",
      "INFO:tensorflow:global_step/sec: 108.342\n",
      "INFO:tensorflow:loss = 0.33203125, step = 200 (0.923 sec)\n",
      "INFO:tensorflow:global_step/sec: 113.122\n",
      "INFO:tensorflow:loss = 0.37890625, step = 300 (0.884 sec)\n",
      "INFO:tensorflow:global_step/sec: 113.506\n",
      "INFO:tensorflow:loss = 0.34765625, step = 400 (0.881 sec)\n",
      "INFO:tensorflow:global_step/sec: 101.938\n",
      "INFO:tensorflow:loss = 0.4140625, step = 500 (0.983 sec)\n",
      "INFO:tensorflow:global_step/sec: 103.519\n",
      "INFO:tensorflow:loss = 0.3828125, step = 600 (0.966 sec)\n",
      "INFO:tensorflow:global_step/sec: 101.01\n",
      "INFO:tensorflow:loss = 0.32421875, step = 700 (0.991 sec)\n",
      "INFO:tensorflow:global_step/sec: 101.01\n",
      "INFO:tensorflow:loss = 0.31640625, step = 800 (0.987 sec)\n",
      "INFO:tensorflow:global_step/sec: 105.152\n",
      "INFO:tensorflow:loss = 0.3671875, step = 900 (0.951 sec)\n",
      "INFO:tensorflow:global_step/sec: 102.249\n",
      "INFO:tensorflow:loss = 0.10872595, step = 1000 (0.984 sec)\n",
      "INFO:tensorflow:global_step/sec: 100.402\n",
      "INFO:tensorflow:loss = 0.098786995, step = 1100 (0.989 sec)\n",
      "INFO:tensorflow:global_step/sec: 98.4251\n",
      "INFO:tensorflow:loss = 0.11427126, step = 1200 (1.017 sec)\n",
      "INFO:tensorflow:global_step/sec: 98.7142\n",
      "INFO:tensorflow:loss = 0.11448354, step = 1300 (1.018 sec)\n",
      "INFO:tensorflow:global_step/sec: 100.001\n",
      "INFO:tensorflow:loss = 0.091846034, step = 1400 (0.994 sec)\n",
      "INFO:tensorflow:global_step/sec: 102.042\n",
      "INFO:tensorflow:loss = 0.1250165, step = 1500 (0.980 sec)\n",
      "INFO:tensorflow:global_step/sec: 100.806\n",
      "INFO:tensorflow:loss = 0.12204459, step = 1600 (0.997 sec)\n",
      "INFO:tensorflow:global_step/sec: 99.7012\n",
      "INFO:tensorflow:loss = 0.09585792, step = 1700 (1.004 sec)\n",
      "INFO:tensorflow:global_step/sec: 93.9847\n",
      "INFO:tensorflow:loss = 0.12385641, step = 1800 (1.059 sec)\n",
      "INFO:tensorflow:global_step/sec: 99.1061\n",
      "INFO:tensorflow:loss = 0.1102957, step = 1900 (1.019 sec)\n",
      "INFO:tensorflow:global_step/sec: 98.5239\n",
      "INFO:tensorflow:Saving checkpoints for 2000 into C:\\Users\\NGUYEN~1\\AppData\\Local\\Temp\\tmpz56xy_yb\\model.ckpt.\n",
      "WARNING:tensorflow:Issue encountered when serializing resources.\n",
      "Type is unsupported, or the types of the items don't match field type in CollectionDef. Note this is a warning and probably safe to ignore.\n",
      "'_Resource' object has no attribute 'name'\n",
      "INFO:tensorflow:Loss for final step: 0.102104336.\n"
     ]
    },
    {
     "data": {
      "text/plain": "<tensorflow_estimator.python.estimator.canned.boosted_trees.BoostedTreesRegressor at 0x22c287add30>"
     },
     "execution_count": 8,
     "metadata": {},
     "output_type": "execute_result"
    }
   ],
   "source": [
    "gdbt_regressor.train(train_input_fn, max_steps=max_steps)"
   ],
   "metadata": {
    "collapsed": false,
    "pycharm": {
     "name": "#%%\n"
    }
   }
  },
  {
   "cell_type": "code",
   "execution_count": null,
   "outputs": [],
   "source": [
    "gdbt_regressor.evaluate(test_input_fn)"
   ],
   "metadata": {
    "collapsed": false,
    "pycharm": {
     "name": "#%%\n"
    }
   }
  }
 ],
 "metadata": {
  "kernelspec": {
   "display_name": "Python 3",
   "language": "python",
   "name": "python3"
  },
  "language_info": {
   "codemirror_mode": {
    "name": "ipython",
    "version": 2
   },
   "file_extension": ".py",
   "mimetype": "text/x-python",
   "name": "python",
   "nbconvert_exporter": "python",
   "pygments_lexer": "ipython2",
   "version": "2.7.6"
  }
 },
 "nbformat": 4,
 "nbformat_minor": 0
}