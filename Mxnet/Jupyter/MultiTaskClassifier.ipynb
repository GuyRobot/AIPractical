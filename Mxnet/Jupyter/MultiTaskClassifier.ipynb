{
 "cells": [
  {
   "cell_type": "code",
   "execution_count": 1,
   "metadata": {
    "collapsed": true
   },
   "outputs": [],
   "source": [
    "import logging\n",
    "import random\n",
    "import time\n",
    "\n",
    "import matplotlib.pyplot as plt\n",
    "import mxnet as mx\n",
    "from mxnet import gluon, nd, autograd\n",
    "import numpy as np\n",
    "\n",
    "batch_size = 128\n",
    "epochs = 5\n",
    "ctx = mx.gpu() if mx.context.num_gpus() > 0 else mx.cpu()\n",
    "lr = 0.01\n",
    "alpha = .5\n"
   ]
  },
  {
   "cell_type": "code",
   "execution_count": 2,
   "outputs": [
    {
     "data": {
      "text/plain": "(\n [[[[0]\n    [0]\n    [0]\n    ...\n    [0]\n    [0]\n    [0]]\n \n   [[0]\n    [0]\n    [0]\n    ...\n    [0]\n    [0]\n    [0]]\n \n   [[0]\n    [0]\n    [0]\n    ...\n    [0]\n    [0]\n    [0]]\n \n   ...\n \n   [[0]\n    [0]\n    [0]\n    ...\n    [0]\n    [0]\n    [0]]\n \n   [[0]\n    [0]\n    [0]\n    ...\n    [0]\n    [0]\n    [0]]\n \n   [[0]\n    [0]\n    [0]\n    ...\n    [0]\n    [0]\n    [0]]]\n \n \n  [[[0]\n    [0]\n    [0]\n    ...\n    [0]\n    [0]\n    [0]]\n \n   [[0]\n    [0]\n    [0]\n    ...\n    [0]\n    [0]\n    [0]]\n \n   [[0]\n    [0]\n    [0]\n    ...\n    [0]\n    [0]\n    [0]]\n \n   ...\n \n   [[0]\n    [0]\n    [0]\n    ...\n    [0]\n    [0]\n    [0]]\n \n   [[0]\n    [0]\n    [0]\n    ...\n    [0]\n    [0]\n    [0]]\n \n   [[0]\n    [0]\n    [0]\n    ...\n    [0]\n    [0]\n    [0]]]\n \n \n  [[[0]\n    [0]\n    [0]\n    ...\n    [0]\n    [0]\n    [0]]\n \n   [[0]\n    [0]\n    [0]\n    ...\n    [0]\n    [0]\n    [0]]\n \n   [[0]\n    [0]\n    [0]\n    ...\n    [0]\n    [0]\n    [0]]\n \n   ...\n \n   [[0]\n    [0]\n    [0]\n    ...\n    [0]\n    [0]\n    [0]]\n \n   [[0]\n    [0]\n    [0]\n    ...\n    [0]\n    [0]\n    [0]]\n \n   [[0]\n    [0]\n    [0]\n    ...\n    [0]\n    [0]\n    [0]]]\n \n \n  [[[0]\n    [0]\n    [0]\n    ...\n    [0]\n    [0]\n    [0]]\n \n   [[0]\n    [0]\n    [0]\n    ...\n    [0]\n    [0]\n    [0]]\n \n   [[0]\n    [0]\n    [0]\n    ...\n    [0]\n    [0]\n    [0]]\n \n   ...\n \n   [[0]\n    [0]\n    [0]\n    ...\n    [0]\n    [0]\n    [0]]\n \n   [[0]\n    [0]\n    [0]\n    ...\n    [0]\n    [0]\n    [0]]\n \n   [[0]\n    [0]\n    [0]\n    ...\n    [0]\n    [0]\n    [0]]]\n \n \n  [[[0]\n    [0]\n    [0]\n    ...\n    [0]\n    [0]\n    [0]]\n \n   [[0]\n    [0]\n    [0]\n    ...\n    [0]\n    [0]\n    [0]]\n \n   [[0]\n    [0]\n    [0]\n    ...\n    [0]\n    [0]\n    [0]]\n \n   ...\n \n   [[0]\n    [0]\n    [0]\n    ...\n    [0]\n    [0]\n    [0]]\n \n   [[0]\n    [0]\n    [0]\n    ...\n    [0]\n    [0]\n    [0]]\n \n   [[0]\n    [0]\n    [0]\n    ...\n    [0]\n    [0]\n    [0]]]]\n <NDArray 5x28x28x1 @cpu(0)>, array([5, 0, 4, 1, 9]))"
     },
     "execution_count": 2,
     "metadata": {},
     "output_type": "execute_result"
    }
   ],
   "source": [
    "train_dataset = gluon.data.vision.MNIST(train=True)\n",
    "test_dataset = gluon.data.vision.MNIST(train=False)\n",
    "train_dataset[:5]"
   ],
   "metadata": {
    "collapsed": false,
    "pycharm": {
     "name": "#%%\n"
    }
   }
  },
  {
   "cell_type": "code",
   "execution_count": 3,
   "outputs": [
    {
     "data": {
      "text/plain": "(\n [[[[0]\n    [0]\n    [0]\n    ...\n    [0]\n    [0]\n    [0]]\n \n   [[0]\n    [0]\n    [0]\n    ...\n    [0]\n    [0]\n    [0]]\n \n   [[0]\n    [0]\n    [0]\n    ...\n    [0]\n    [0]\n    [0]]\n \n   ...\n \n   [[0]\n    [0]\n    [0]\n    ...\n    [0]\n    [0]\n    [0]]\n \n   [[0]\n    [0]\n    [0]\n    ...\n    [0]\n    [0]\n    [0]]\n \n   [[0]\n    [0]\n    [0]\n    ...\n    [0]\n    [0]\n    [0]]]\n \n \n  [[[0]\n    [0]\n    [0]\n    ...\n    [0]\n    [0]\n    [0]]\n \n   [[0]\n    [0]\n    [0]\n    ...\n    [0]\n    [0]\n    [0]]\n \n   [[0]\n    [0]\n    [0]\n    ...\n    [0]\n    [0]\n    [0]]\n \n   ...\n \n   [[0]\n    [0]\n    [0]\n    ...\n    [0]\n    [0]\n    [0]]\n \n   [[0]\n    [0]\n    [0]\n    ...\n    [0]\n    [0]\n    [0]]\n \n   [[0]\n    [0]\n    [0]\n    ...\n    [0]\n    [0]\n    [0]]]\n \n \n  [[[0]\n    [0]\n    [0]\n    ...\n    [0]\n    [0]\n    [0]]\n \n   [[0]\n    [0]\n    [0]\n    ...\n    [0]\n    [0]\n    [0]]\n \n   [[0]\n    [0]\n    [0]\n    ...\n    [0]\n    [0]\n    [0]]\n \n   ...\n \n   [[0]\n    [0]\n    [0]\n    ...\n    [0]\n    [0]\n    [0]]\n \n   [[0]\n    [0]\n    [0]\n    ...\n    [0]\n    [0]\n    [0]]\n \n   [[0]\n    [0]\n    [0]\n    ...\n    [0]\n    [0]\n    [0]]]\n \n \n  [[[0]\n    [0]\n    [0]\n    ...\n    [0]\n    [0]\n    [0]]\n \n   [[0]\n    [0]\n    [0]\n    ...\n    [0]\n    [0]\n    [0]]\n \n   [[0]\n    [0]\n    [0]\n    ...\n    [0]\n    [0]\n    [0]]\n \n   ...\n \n   [[0]\n    [0]\n    [0]\n    ...\n    [0]\n    [0]\n    [0]]\n \n   [[0]\n    [0]\n    [0]\n    ...\n    [0]\n    [0]\n    [0]]\n \n   [[0]\n    [0]\n    [0]\n    ...\n    [0]\n    [0]\n    [0]]]\n \n \n  [[[0]\n    [0]\n    [0]\n    ...\n    [0]\n    [0]\n    [0]]\n \n   [[0]\n    [0]\n    [0]\n    ...\n    [0]\n    [0]\n    [0]]\n \n   [[0]\n    [0]\n    [0]\n    ...\n    [0]\n    [0]\n    [0]]\n \n   ...\n \n   [[0]\n    [0]\n    [0]\n    ...\n    [0]\n    [0]\n    [0]]\n \n   [[0]\n    [0]\n    [0]\n    ...\n    [0]\n    [0]\n    [0]]\n \n   [[0]\n    [0]\n    [0]\n    ...\n    [0]\n    [0]\n    [0]]]]\n <NDArray 5x28x28x1 @cpu(0)>, array([5, 0, 4, 1, 9]))"
     },
     "execution_count": 3,
     "metadata": {},
     "output_type": "execute_result"
    }
   ],
   "source": [
    "def transform(x, y):\n",
    "    x = x.transpose((2, 0, 1)).astype('float32') / 255\n",
    "    y1 = y\n",
    "    y2 = y % 2\n",
    "    return x, np.float32(y1), np.float32(y2)\n",
    "\n",
    "train_dataset_t = train_dataset.transform(transform)\n",
    "test_dataset_t = test_dataset.transform(transform)\n",
    "train_dataset[:5]"
   ],
   "metadata": {
    "collapsed": false,
    "pycharm": {
     "name": "#%%\n"
    }
   }
  },
  {
   "cell_type": "code",
   "execution_count": 11,
   "outputs": [
    {
     "name": "stdout",
     "output_type": "stream",
     "text": [
      "Input shape: 28, Target Labels: 1\n"
     ]
    }
   ],
   "source": [
    "train_data = gluon.data.DataLoader(train_dataset_t, shuffle=True, last_batch='rollover', batch_size=batch_size)\n",
    "test_data = gluon.data.DataLoader(test_dataset_t, shuffle=False, last_batch='rollover', batch_size=batch_size)\n",
    "print(\"Input shape: %d, Target Labels: %d\" % (train_dataset[0][0].shape[0],\n",
    "                                              train_dataset_t[0][0].shape[0]))"
   ],
   "metadata": {
    "collapsed": false,
    "pycharm": {
     "name": "#%%\n"
    }
   }
  },
  {
   "cell_type": "code",
   "execution_count": 12,
   "outputs": [],
   "source": [
    "class MultiTaskNetwork(gluon.HybridBlock):\n",
    "    def __init__(self):\n",
    "        super(MultiTaskNetwork, self).__init__()\n",
    "\n",
    "        self.shared = gluon.nn.HybridSequential()\n",
    "        with self.shared.name_scope():\n",
    "            self.shared.add(\n",
    "                gluon.nn.Dense(128, activation='relu'),\n",
    "                gluon.nn.Dense(64, activation='relu'),\n",
    "                gluon.nn.Dense(10, activation='relu')\n",
    "            )\n",
    "\n",
    "        self.output1 = gluon.nn.Dense(10) # Num class\n",
    "        self.output2 = gluon.nn.Dense(1) # Odd and Even\n",
    "\n",
    "    def hybrid_forward(self, F, x, *args, **kwargs):\n",
    "        y = self.shared(x)\n",
    "        output1 = self.output1(y)\n",
    "        output2 = self.output2(y)\n",
    "        return output1, output2\n",
    "\n"
   ],
   "metadata": {
    "collapsed": false,
    "pycharm": {
     "name": "#%%\n"
    }
   }
  },
  {
   "cell_type": "code",
   "execution_count": 13,
   "outputs": [
    {
     "data": {
      "text/plain": "SoftmaxCrossEntropyLoss(batch_axis=0, w=None)"
     },
     "execution_count": 13,
     "metadata": {},
     "output_type": "execute_result"
    }
   ],
   "source": [
    "loss_digits = gluon.loss.SoftmaxCELoss()\n",
    "loss_odd_even = gluon.loss.SigmoidBCELoss()\n",
    "\n",
    "loss_digits\n"
   ],
   "metadata": {
    "collapsed": false,
    "pycharm": {
     "name": "#%%\n"
    }
   }
  },
  {
   "cell_type": "code",
   "execution_count": 14,
   "outputs": [
    {
     "data": {
      "text/plain": "<mxnet.gluon.trainer.Trainer at 0x18d2970a2b0>"
     },
     "execution_count": 14,
     "metadata": {},
     "output_type": "execute_result"
    }
   ],
   "source": [
    "# Init network\n",
    "mx.random.seed(42)\n",
    "random.seed(42)\n",
    "\n",
    "net = MultiTaskNetwork()\n",
    "net.initialize(mx.init.Xavier(), ctx=ctx)\n",
    "net.hybridize()\n",
    "\n",
    "trainer = gluon.Trainer(net.collect_params(), 'adam',\n",
    "                        {'learning_rate': lr})\n",
    "trainer"
   ],
   "metadata": {
    "collapsed": false,
    "pycharm": {
     "name": "#%%\n"
    }
   }
  },
  {
   "cell_type": "code",
   "execution_count": 15,
   "outputs": [],
   "source": [
    "# Evaluate accuracy\n",
    "\n",
    "def evaluate_accuracy(net, data_iterator):\n",
    "    acc_digits = mx.metric.Accuracy(name='digits')\n",
    "    acc_odd_even = mx.metric.Accuracy(name='odd_even')\n",
    "\n",
    "    for i, (data, label_digit, label_odd_even) in enumerate(data_iterator):\n",
    "        data = data.as_in_context(ctx)\n",
    "        label_digit = label_digit.as_in_context(ctx)\n",
    "        label_odd_even = label_odd_even.as_in_context(ctx).reshape(-1, 1)\n",
    "\n",
    "        output_digit, out_put_odd_even = net(data)\n",
    "\n",
    "        acc_digits.update(label_digit, output_digit.softmax())\n",
    "        acc_odd_even.update(label_odd_even, out_put_odd_even.sigmoid() > 0.5)\n",
    "        return acc_digits.get(), acc_odd_even.get()\n",
    "\n"
   ],
   "metadata": {
    "collapsed": false,
    "pycharm": {
     "name": "#%%\n"
    }
   }
  },
  {
   "cell_type": "code",
   "execution_count": 16,
   "outputs": [
    {
     "name": "stdout",
     "output_type": "stream",
     "text": [
      "Epoch 0, Acc digits: 0.0781, Loss digits: 2.3049\n",
      "Epoch 0, Acc odd_even: 0.4609, Loss odd_even: 0.7011\n"
     ]
    },
    {
     "ename": "TypeError",
     "evalue": "must be real number, not tuple",
     "output_type": "error",
     "traceback": [
      "\u001B[1;31m---------------------------------------------------------------------------\u001B[0m",
      "\u001B[1;31mTypeError\u001B[0m                                 Traceback (most recent call last)",
      "\u001B[1;32m<ipython-input-16-dfc5b6fa1087>\u001B[0m in \u001B[0;36m<module>\u001B[1;34m\u001B[0m\n\u001B[0;32m     30\u001B[0m         print(\"Epoch %d, Acc odd_even: %.4f, Loss odd_even: %.4f\" % (e, acc_odd_even.get()[1], loss_odd_even_.asscalar() /\n\u001B[0;32m     31\u001B[0m                                                                  (i+1)))\n\u001B[1;32m---> 32\u001B[1;33m         \u001B[0mprint\u001B[0m\u001B[1;33m(\u001B[0m\u001B[1;34m\"Epoch %d, Testing Accuracies: %.4f\"\u001B[0m \u001B[1;33m%\u001B[0m \u001B[1;33m(\u001B[0m\u001B[0me\u001B[0m\u001B[1;33m,\u001B[0m \u001B[0mevaluate_accuracy\u001B[0m\u001B[1;33m(\u001B[0m\u001B[0mnet\u001B[0m\u001B[1;33m,\u001B[0m \u001B[0mtest_data\u001B[0m\u001B[1;33m)\u001B[0m\u001B[1;33m)\u001B[0m\u001B[1;33m)\u001B[0m\u001B[1;33m\u001B[0m\u001B[0m\n\u001B[0m\u001B[0;32m     33\u001B[0m \u001B[1;33m\u001B[0m\u001B[0m\n\u001B[0;32m     34\u001B[0m \u001B[1;33m\u001B[0m\u001B[0m\n",
      "\u001B[1;31mTypeError\u001B[0m: must be real number, not tuple"
     ]
    }
   ],
   "source": [
    "for e in range(epochs):\n",
    "    acc_digits = mx.metric.Accuracy(name='digits')\n",
    "    acc_odd_even = mx.metric.Accuracy(name='odd_even')\n",
    "\n",
    "    loss_digits_ = 0.0\n",
    "    loss_odd_even_ = 0.0\n",
    "\n",
    "    for i, (data, label_digit, label_odd_even) in enumerate(train_data):\n",
    "        data = data.as_in_context(ctx)\n",
    "        label_digit = label_digit.as_in_context(ctx)\n",
    "        label_odd_even = label_odd_even.as_in_context(ctx).reshape(-1, 1)\n",
    "\n",
    "        with autograd.record():\n",
    "            output_digit, output_odd_even = net(data)\n",
    "            l_digits = loss_digits(output_digit, label_digit)\n",
    "            l_odd_even = loss_odd_even(output_odd_even, label_odd_even)\n",
    "\n",
    "            l_combined = (1- alpha) * l_digits + alpha * l_odd_even\n",
    "\n",
    "        l_combined.backward()\n",
    "        trainer.step(data.shape[0])\n",
    "\n",
    "        loss_digits_ += l_digits.mean()\n",
    "        loss_odd_even_ += l_odd_even.mean()\n",
    "        acc_digits.update(label_digit, output_digit.softmax())\n",
    "        acc_odd_even.update(label_odd_even, output_odd_even.sigmoid() > 0.5)\n",
    "\n",
    "        print(\"Epoch %d, Acc digits: %.4f, Loss digits: %.4f\" % (e, acc_digits.get()[1], loss_digits_.asscalar() /\n",
    "                                                                 (i+1)))\n",
    "        print(\"Epoch %d, Acc odd_even: %.4f, Loss odd_even: %.4f\" % (e, acc_odd_even.get()[1], loss_odd_even_.asscalar() /\n",
    "                                                                 (i+1)))\n",
    "        print(\"Epoch %d, Testing Accuracies: %.4f\" % (e, evaluate_accuracy(net, test_data)))\n",
    "\n"
   ],
   "metadata": {
    "collapsed": false,
    "pycharm": {
     "name": "#%%\n"
    }
   }
  }
 ],
 "metadata": {
  "kernelspec": {
   "display_name": "Python 3",
   "language": "python",
   "name": "python3"
  },
  "language_info": {
   "codemirror_mode": {
    "name": "ipython",
    "version": 2
   },
   "file_extension": ".py",
   "mimetype": "text/x-python",
   "name": "python",
   "nbconvert_exporter": "python",
   "pygments_lexer": "ipython2",
   "version": "2.7.6"
  }
 },
 "nbformat": 4,
 "nbformat_minor": 0
}