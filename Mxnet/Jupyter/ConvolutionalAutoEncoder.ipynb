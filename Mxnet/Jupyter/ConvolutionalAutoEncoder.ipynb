{
 "cells": [
  {
   "cell_type": "code",
   "execution_count": 1,
   "metadata": {
    "collapsed": true
   },
   "outputs": [],
   "source": [
    "import random\n",
    "import matplotlib.pyplot as plt\n",
    "import mxnet as mx\n",
    "from mxnet import gluon, autograd\n"
   ]
  },
  {
   "cell_type": "code",
   "execution_count": 2,
   "outputs": [],
   "source": [
    "batch_size = 512\n",
    "ctx = mx.gpu() if mx.context.num_gpus() > 0 else mx.cpu()\n"
   ],
   "metadata": {
    "collapsed": false,
    "pycharm": {
     "name": "#%%\n"
    }
   }
  },
  {
   "cell_type": "code",
   "execution_count": 19,
   "outputs": [
    {
     "data": {
      "text/plain": "6"
     },
     "execution_count": 19,
     "metadata": {},
     "output_type": "execute_result"
    }
   ],
   "source": [
    "transform = lambda x,y: (x.transpose((2, 0, 1)).astype('float32')/255.0, y)\n",
    "\n",
    "train_dataset = gluon.data.vision.FashionMNIST(train=True)\n",
    "test_dataset = gluon.data.vision.FashionMNIST(train=False)\n",
    "\n",
    "train_dataset[0][0].shape"
   ],
   "metadata": {
    "collapsed": false,
    "pycharm": {
     "name": "#%%\n"
    }
   }
  },
  {
   "cell_type": "code",
   "execution_count": 9,
   "outputs": [
    {
     "data": {
      "text/plain": "<mxnet.gluon.data.dataset._LazyTransformDataset at 0x2609550a3c8>"
     },
     "execution_count": 9,
     "metadata": {},
     "output_type": "execute_result"
    }
   ],
   "source": [
    "train_dataset_t = train_dataset.transform(transform)\n",
    "test_dataset_t = test_dataset.transform(transform)\n",
    "\n",
    "train_dataset_t"
   ],
   "metadata": {
    "collapsed": false,
    "pycharm": {
     "name": "#%%\n"
    }
   }
  },
  {
   "cell_type": "code",
   "execution_count": 10,
   "outputs": [],
   "source": [
    "train_data = gluon.data.DataLoader(train_dataset_t, batch_size=batch_size, last_batch='rollover', shuffle=True)\n",
    "test_data = gluon.data.DataLoader(test_dataset_t, batch_size=batch_size, shuffle=False, last_batch='rollover')\n"
   ],
   "metadata": {
    "collapsed": false,
    "pycharm": {
     "name": "#%%\n"
    }
   }
  },
  {
   "cell_type": "code",
   "execution_count": 11,
   "outputs": [
    {
     "data": {
      "text/plain": "<Figure size 1440x720 with 10 Axes>",
      "image/png": "[encoded data removed]"
     },
     "metadata": {
      "needs_background": "light"
     },
     "output_type": "display_data"
    }
   ],
   "source": [
    "plt.figure(figsize=(20, 10))\n",
    "for i in range(10):\n",
    "    ax = plt.subplot(1, 10, i + 1)\n",
    "    ax.imshow(train_dataset[i][0].squeeze().asnumpy(), cmap='gray')\n",
    "    ax.axis('off')\n"
   ],
   "metadata": {
    "collapsed": false,
    "pycharm": {
     "name": "#%%\n"
    }
   }
  },
  {
   "cell_type": "code",
   "execution_count": 25,
   "outputs": [
    {
     "data": {
      "text/plain": "HybridSequential(\n  (0): HybridSequential(\n    (0): Conv2D(None -> 4, kernel_size=(3, 3), stride=(2, 2), padding=(1, 1), Activation(relu))\n    (1): BatchNorm(axis=1, eps=1e-05, momentum=0.9, fix_gamma=False, use_global_stats=False, in_channels=None)\n    (2): Conv2D(None -> 8, kernel_size=(3, 3), stride=(2, 2), padding=(1, 1), Activation(relu))\n    (3): BatchNorm(axis=1, eps=1e-05, momentum=0.9, fix_gamma=False, use_global_stats=False, in_channels=None)\n    (4): Conv2D(None -> 16, kernel_size=(3, 3), stride=(2, 2), padding=(1, 1), Activation(relu))\n    (5): BatchNorm(axis=1, eps=1e-05, momentum=0.9, fix_gamma=False, use_global_stats=False, in_channels=None)\n    (6): Conv2D(None -> 32, kernel_size=(3, 3), stride=(2, 2), Activation(relu))\n    (7): BatchNorm(axis=1, eps=1e-05, momentum=0.9, fix_gamma=False, use_global_stats=False, in_channels=None)\n  )\n  (1): HybridSequential(\n    (0): Conv2D(None -> 32, kernel_size=(3, 3), stride=(1, 1), padding=(2, 2), Activation(relu))\n    (1): HybridLambda(<lambda>)\n    (2): BatchNorm(axis=1, eps=1e-05, momentum=0.9, fix_gamma=False, use_global_stats=False, in_channels=None)\n    (3): Conv2D(None -> 16, kernel_size=(3, 3), stride=(1, 1), padding=(1, 1), Activation(relu))\n    (4): HybridLambda(<lambda>)\n    (5): BatchNorm(axis=1, eps=1e-05, momentum=0.9, fix_gamma=False, use_global_stats=False, in_channels=None)\n    (6): Conv2D(None -> 8, kernel_size=(3, 3), stride=(1, 1), padding=(2, 2), Activation(relu))\n    (7): HybridLambda(<lambda>)\n    (8): BatchNorm(axis=1, eps=1e-05, momentum=0.9, fix_gamma=False, use_global_stats=False, in_channels=None)\n    (9): Conv2D(None -> 4, kernel_size=(3, 3), stride=(1, 1), padding=(1, 1), Activation(relu))\n    (10): Conv2D(None -> 1, kernel_size=(3, 3), stride=(1, 1), padding=(1, 1), Activation(sigmoid))\n  )\n)"
     },
     "execution_count": 25,
     "metadata": {},
     "output_type": "execute_result"
    }
   ],
   "source": [
    "net = gluon.nn.HybridSequential()\n",
    "encoder = gluon.nn.HybridSequential()\n",
    "\n",
    "encoder.add(\n",
    "    gluon.nn.Conv2D(channels=4, kernel_size=3, padding=1, strides=(2, 2), activation='relu'),\n",
    "    gluon.nn.BatchNorm(),\n",
    "    gluon.nn.Conv2D(channels=8, kernel_size=3, padding=1, strides=(2, 2), activation='relu'),\n",
    "    gluon.nn.BatchNorm(),\n",
    "    gluon.nn.Conv2D(channels=16, kernel_size=3, padding=1, strides=(2, 2), activation='relu'),\n",
    "    gluon.nn.BatchNorm(),\n",
    "    gluon.nn.Conv2D(channels=32, kernel_size=3, padding=0, strides=(2, 2), activation='relu'),\n",
    "    gluon.nn.BatchNorm(),\n",
    "\n",
    ")\n",
    "\n",
    "decoder = gluon.nn.HybridSequential()\n",
    "decoder.add(\n",
    "    gluon.nn.Conv2D(channels=32, kernel_size=3, padding=2, activation='relu'),\n",
    "    gluon.nn.HybridLambda(lambda F, x: F.UpSampling(x, scale=2, sample_type='nearest')),\n",
    "    gluon.nn.BatchNorm(),\n",
    "    gluon.nn.Conv2D(channels=16, kernel_size=3, padding=1, activation='relu'),\n",
    "    gluon.nn.HybridLambda(lambda F, x: F.UpSampling(x, scale=2, sample_type='nearest')),\n",
    "    gluon.nn.BatchNorm(),\n",
    "    gluon.nn.Conv2D(channels=8, kernel_size=3, padding=2, activation='relu'),\n",
    "    gluon.nn.HybridLambda(lambda F, x: F.UpSampling(x, scale=2, sample_type='nearest')),\n",
    "    gluon.nn.BatchNorm(),\n",
    "    gluon.nn.Conv2D(channels=4, kernel_size=3, padding=1, activation='relu'),\n",
    "    gluon.nn.Conv2D(channels=1, kernel_size=3, padding=1, activation='sigmoid')\n",
    ")\n",
    "\n",
    "net.add(\n",
    "    encoder,\n",
    "    decoder\n",
    ")\n",
    "net"
   ],
   "metadata": {
    "collapsed": false,
    "pycharm": {
     "name": "#%%\n"
    }
   }
  },
  {
   "cell_type": "code",
   "execution_count": 26,
   "outputs": [],
   "source": [
    "net.initialize(ctx=ctx)"
   ],
   "metadata": {
    "collapsed": false,
    "pycharm": {
     "name": "#%%\n"
    }
   }
  },
  {
   "cell_type": "code",
   "execution_count": 27,
   "outputs": [
    {
     "name": "stdout",
     "output_type": "stream",
     "text": [
      "--------------------------------------------------------------------------------\n",
      "        Layer (type)                                Output Shape         Param #\n",
      "================================================================================\n",
      "               Input                              (1, 1, 28, 28)               0\n",
      "        Activation-1                    <Symbol conv20_relu_fwd>               0\n",
      "        Activation-2                              (1, 4, 14, 14)               0\n",
      "            Conv2D-3                              (1, 4, 14, 14)              40\n",
      "         BatchNorm-4                              (1, 4, 14, 14)              16\n",
      "        Activation-5                    <Symbol conv21_relu_fwd>               0\n",
      "        Activation-6                                (1, 8, 7, 7)               0\n",
      "            Conv2D-7                                (1, 8, 7, 7)             296\n",
      "         BatchNorm-8                                (1, 8, 7, 7)              32\n",
      "        Activation-9                    <Symbol conv22_relu_fwd>               0\n",
      "       Activation-10                               (1, 16, 4, 4)               0\n",
      "           Conv2D-11                               (1, 16, 4, 4)            1168\n",
      "        BatchNorm-12                               (1, 16, 4, 4)              64\n",
      "       Activation-13                    <Symbol conv23_relu_fwd>               0\n",
      "       Activation-14                               (1, 32, 1, 1)               0\n",
      "           Conv2D-15                               (1, 32, 1, 1)            4640\n",
      "        BatchNorm-16                               (1, 32, 1, 1)             128\n",
      "       Activation-17                    <Symbol conv24_relu_fwd>               0\n",
      "       Activation-18                               (1, 32, 3, 3)               0\n",
      "           Conv2D-19                               (1, 32, 3, 3)            9248\n",
      "     HybridLambda-20                               (1, 32, 6, 6)               0\n",
      "        BatchNorm-21                               (1, 32, 6, 6)             128\n",
      "       Activation-22                    <Symbol conv25_relu_fwd>               0\n",
      "       Activation-23                               (1, 16, 6, 6)               0\n",
      "           Conv2D-24                               (1, 16, 6, 6)            4624\n",
      "     HybridLambda-25                             (1, 16, 12, 12)               0\n",
      "        BatchNorm-26                             (1, 16, 12, 12)              64\n",
      "       Activation-27                    <Symbol conv26_relu_fwd>               0\n",
      "       Activation-28                              (1, 8, 14, 14)               0\n",
      "           Conv2D-29                              (1, 8, 14, 14)            1160\n",
      "     HybridLambda-30                              (1, 8, 28, 28)               0\n",
      "        BatchNorm-31                              (1, 8, 28, 28)              32\n",
      "       Activation-32                    <Symbol conv27_relu_fwd>               0\n",
      "       Activation-33                              (1, 4, 28, 28)               0\n",
      "           Conv2D-34                              (1, 4, 28, 28)             292\n",
      "       Activation-35                 <Symbol conv28_sigmoid_fwd>               0\n",
      "       Activation-36                              (1, 1, 28, 28)               0\n",
      "           Conv2D-37                              (1, 1, 28, 28)              37\n",
      "================================================================================\n",
      "Parameters in forward computation graph, duplicate included\n",
      "   Total params: 21969\n",
      "   Trainable params: 21737\n",
      "   Non-trainable params: 232\n",
      "Shared params in forward computation graph: 0\n",
      "Unique parameters in model: 21969\n",
      "--------------------------------------------------------------------------------\n"
     ]
    }
   ],
   "source": [
    "net.summary(train_dataset_t[0][0].expand_dims(axis=0).as_in_context(ctx))\n",
    "\n"
   ],
   "metadata": {
    "collapsed": false,
    "pycharm": {
     "name": "#%%\n"
    }
   }
  }
 ],
 "metadata": {
  "kernelspec": {
   "display_name": "Python 3",
   "language": "python",
   "name": "python3"
  },
  "language_info": {
   "codemirror_mode": {
    "name": "ipython",
    "version": 2
   },
   "file_extension": ".py",
   "mimetype": "text/x-python",
   "name": "python",
   "nbconvert_exporter": "python",
   "pygments_lexer": "ipython2",
   "version": "2.7.6"
  }
 },
 "nbformat": 4,
 "nbformat_minor": 0
}